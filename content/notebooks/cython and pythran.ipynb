{
 "cells": [
  {
   "cell_type": "code",
   "execution_count": 1,
   "metadata": {},
   "outputs": [],
   "source": [
    "import numpy as np\n",
    "\n",
    "n = 10000\n",
    "x, y = np.random.random((2, n))"
   ]
  },
  {
   "cell_type": "code",
   "execution_count": 2,
   "metadata": {},
   "outputs": [],
   "source": [
    "def np_cos_norm(a, b):\n",
    "    val = np.sum(1. - np.cos(a-b))\n",
    "    return np.sqrt(val / 2. / a.shape[0])"
   ]
  },
  {
   "cell_type": "code",
   "execution_count": 3,
   "metadata": {},
   "outputs": [
    {
     "name": "stdout",
     "output_type": "stream",
     "text": [
      "135 µs ± 4.7 µs per loop (mean ± std. dev. of 7 runs, 10000 loops each)\n"
     ]
    }
   ],
   "source": [
    "%timeit np_cos_norm(x, y)"
   ]
  },
  {
   "cell_type": "code",
   "execution_count": 4,
   "metadata": {},
   "outputs": [],
   "source": [
    "%load_ext Cython"
   ]
  },
  {
   "cell_type": "code",
   "execution_count": 5,
   "metadata": {},
   "outputs": [],
   "source": [
    "%%cython\n",
    "import numpy as np\n",
    "def cy_np_cos_norm(a, b):\n",
    "    val = np.sum(1. - np.cos(a-b))\n",
    "    return np.sqrt(val / 2. / a.shape[0])"
   ]
  },
  {
   "cell_type": "code",
   "execution_count": 6,
   "metadata": {},
   "outputs": [
    {
     "name": "stdout",
     "output_type": "stream",
     "text": [
      "130 µs ± 2.03 µs per loop (mean ± std. dev. of 7 runs, 10000 loops each)\n"
     ]
    }
   ],
   "source": [
    "%timeit cy_np_cos_norm(x, y)"
   ]
  },
  {
   "cell_type": "code",
   "execution_count": 7,
   "metadata": {},
   "outputs": [],
   "source": [
    "%%cython\n",
    "import numpy as np\n",
    "cimport numpy as np\n",
    "def cy_np_typed_cos_norm(np.ndarray[double, ndim=1] a, np.ndarray[double, ndim=1] b):\n",
    "    val = np.sum(1. - np.cos(a-b))\n",
    "    return np.sqrt(val / 2. / a.shape[0])"
   ]
  },
  {
   "cell_type": "code",
   "execution_count": 8,
   "metadata": {},
   "outputs": [
    {
     "name": "stdout",
     "output_type": "stream",
     "text": [
      "136 µs ± 1.42 µs per loop (mean ± std. dev. of 7 runs, 10000 loops each)\n"
     ]
    }
   ],
   "source": [
    "%timeit cy_np_typed_cos_norm(x, y)"
   ]
  },
  {
   "cell_type": "code",
   "execution_count": 9,
   "metadata": {},
   "outputs": [],
   "source": [
    "%%cython\n",
    "#cython: np_pythran=True\n",
    "#cython: cxx=True\n",
    "import numpy as np\n",
    "cimport numpy as np\n",
    "\n",
    "def cy_np_typed_pythran_cos_norm(np.ndarray[double, ndim=1] a, np.ndarray[double, ndim=1] b):\n",
    "    cdef int n = len(a)\n",
    "    val = np.sum(1. - np.cos(a-b))\n",
    "    return np.sqrt(val / 2. / n)"
   ]
  },
  {
   "cell_type": "code",
   "execution_count": 10,
   "metadata": {},
   "outputs": [
    {
     "name": "stdout",
     "output_type": "stream",
     "text": [
      "125 µs ± 534 ns per loop (mean ± std. dev. of 7 runs, 10000 loops each)\n"
     ]
    }
   ],
   "source": [
    "%timeit cy_np_typed_pythran_cos_norm(x, y)"
   ]
  },
  {
   "cell_type": "code",
   "execution_count": 39,
   "metadata": {},
   "outputs": [
    {
     "name": "stdout",
     "output_type": "stream",
     "text": [
      "In file included from /home/sguelton/.venvs/pythran-stories/lib/python3.6/site-packages/numpy/core/include/numpy/ndarraytypes.h:1821,\n",
      "                 from /home/sguelton/.venvs/pythran-stories/lib/python3.6/site-packages/numpy/core/include/numpy/ndarrayobject.h:18,\n",
      "                 from /home/sguelton/.venvs/pythran-stories/lib/python3.6/site-packages/numpy/core/include/numpy/arrayobject.h:4,\n",
      "                 from /home/sguelton/.cache/ipython/cython/_cython_magic_de5fadab911cf21905da8dd16683ccf9.c:663:\n",
      "/home/sguelton/.venvs/pythran-stories/lib/python3.6/site-packages/numpy/core/include/numpy/npy_1_7_deprecated_api.h:15:2: warning: #warning \"Using deprecated NumPy API, disable it by \" \"#defining NPY_NO_DEPRECATED_API NPY_1_7_API_VERSION\" [-Wcpp]\n",
      " #warning \"Using deprecated NumPy API, disable it by \" \\\n",
      "  ^~~~~~~\n"
     ]
    }
   ],
   "source": [
    "%%cython\n",
    "\n",
    "import numpy as np\n",
    "cimport numpy as np\n",
    "from libc.math cimport cos, sqrt\n",
    "\n",
    "cimport cython\n",
    "@cython.boundscheck(False) # turn off bounds-checking for entire function\n",
    "@cython.wraparound(False)  # turn off negative index wrapping for entire function\n",
    "def cy_np_typed_python_cos_norm(np.ndarray[double, ndim=1] a, np.ndarray[double, ndim=1] b):\n",
    "    cdef int n = len(a), i\n",
    "    cdef double acc = 0,res\n",
    "    for i in range(n):\n",
    "        acc += 1 - cos(a[i]-b[i])\n",
    "    res = sqrt(acc / 2. / n)\n",
    "    return res"
   ]
  },
  {
   "cell_type": "code",
   "execution_count": 40,
   "metadata": {},
   "outputs": [
    {
     "name": "stdout",
     "output_type": "stream",
     "text": [
      "127 µs ± 957 ns per loop (mean ± std. dev. of 7 runs, 10000 loops each)\n"
     ]
    }
   ],
   "source": [
    "%timeit cy_np_typed_python_cos_norm(x, y)"
   ]
  },
  {
   "cell_type": "code",
   "execution_count": 17,
   "metadata": {},
   "outputs": [],
   "source": [
    "%%cython -c=-DUSE_XSIMD -c=-march=native\n",
    "#cython: np_pythran=True\n",
    "#cython: cxx=True\n",
    "import numpy as np\n",
    "cimport numpy as np\n",
    "\n",
    "def cy_np_typed_pythran_xsimd_cos_norm(np.ndarray[double, ndim=1] a, np.ndarray[double, ndim=1] b):\n",
    "    cdef int n = len(a)\n",
    "    val = np.sum(1. - np.cos(a-b))\n",
    "    return np.sqrt(val / 2. / n)"
   ]
  },
  {
   "cell_type": "code",
   "execution_count": 18,
   "metadata": {},
   "outputs": [
    {
     "name": "stdout",
     "output_type": "stream",
     "text": [
      "28.1 µs ± 49.7 ns per loop (mean ± std. dev. of 7 runs, 10000 loops each)\n"
     ]
    }
   ],
   "source": [
    "%timeit cy_np_typed_pythran_xsimd_cos_norm(x, y)"
   ]
  },
  {
   "cell_type": "code",
   "execution_count": 22,
   "metadata": {},
   "outputs": [],
   "source": [
    "def np_laplacien(image):\n",
    "    out_image = np.abs(4*image[1:-1,1:-1] -\n",
    "                       image[0:-2,1:-1] - image[2:,1:-1] -\n",
    "                       image[1:-1,0:-2] - image[1:-1,2:])\n",
    "    valmax = np.max(out_image)\n",
    "    valmax = max(1.,valmax)+1.E-9\n",
    "    out_image /= valmax\n",
    "    return out_image"
   ]
  },
  {
   "cell_type": "code",
   "execution_count": 32,
   "metadata": {},
   "outputs": [],
   "source": [
    "N = 500 ; image = np.random.randn(N,N)"
   ]
  },
  {
   "cell_type": "code",
   "execution_count": 33,
   "metadata": {},
   "outputs": [
    {
     "name": "stdout",
     "output_type": "stream",
     "text": [
      "1.16 ms ± 1.62 µs per loop (mean ± std. dev. of 7 runs, 1000 loops each)\n"
     ]
    }
   ],
   "source": [
    "%timeit np_laplacien(image)"
   ]
  },
  {
   "cell_type": "code",
   "execution_count": 34,
   "metadata": {},
   "outputs": [],
   "source": [
    "%%cython\n",
    "import numpy as np\n",
    "def cy_np_laplacien(image):\n",
    "    out_image = np.abs(4*image[1:-1,1:-1] -\n",
    "                       image[0:-2,1:-1] - image[2:,1:-1] -\n",
    "                       image[1:-1,0:-2] - image[1:-1,2:])\n",
    "    valmax = np.max(out_image)\n",
    "    valmax = max(1.,valmax)+1.E-9\n",
    "    out_image /= valmax\n",
    "    return out_image"
   ]
  },
  {
   "cell_type": "code",
   "execution_count": 35,
   "metadata": {},
   "outputs": [
    {
     "name": "stdout",
     "output_type": "stream",
     "text": [
      "1.37 ms ± 51.5 µs per loop (mean ± std. dev. of 7 runs, 1000 loops each)\n"
     ]
    }
   ],
   "source": [
    "%timeit cy_np_laplacien(image)"
   ]
  },
  {
   "cell_type": "code",
   "execution_count": 37,
   "metadata": {},
   "outputs": [],
   "source": [
    "%%cython\n",
    "#cython: np_pythran=True\n",
    "#cython: cxx=True\n",
    "import numpy as np\n",
    "cimport numpy as np\n",
    "\n",
    "def cy_np_pythran_laplacien(np.ndarray[double, ndim=2] image):\n",
    "\n",
    "    out_image = np.abs(4*image[1:-1,1:-1] -\n",
    "                       image[0:-2,1:-1] - image[2:,1:-1] -\n",
    "                       image[1:-1,0:-2] - image[1:-1,2:])\n",
    "    valmax = np.max(out_image)\n",
    "    valmax = max(1.,valmax)+1.E-9\n",
    "    out_image /= valmax\n",
    "    return out_image"
   ]
  },
  {
   "cell_type": "code",
   "execution_count": 38,
   "metadata": {},
   "outputs": [
    {
     "name": "stdout",
     "output_type": "stream",
     "text": [
      "572 µs ± 2.01 µs per loop (mean ± std. dev. of 7 runs, 1000 loops each)\n"
     ]
    }
   ],
   "source": [
    "%timeit cy_np_pythran_laplacien(image)"
   ]
  },
  {
   "cell_type": "code",
   "execution_count": 45,
   "metadata": {},
   "outputs": [
    {
     "name": "stdout",
     "output_type": "stream",
     "text": [
      "In file included from /home/sguelton/.venvs/pythran-stories/lib/python3.6/site-packages/numpy/core/include/numpy/ndarraytypes.h:1821,\n",
      "                 from /home/sguelton/.venvs/pythran-stories/lib/python3.6/site-packages/numpy/core/include/numpy/ndarrayobject.h:18,\n",
      "                 from /home/sguelton/.venvs/pythran-stories/lib/python3.6/site-packages/numpy/core/include/numpy/arrayobject.h:4,\n",
      "                 from /home/sguelton/.cache/ipython/cython/_cython_magic_13f923ceefb5a7aa28145e7decf40983.c:667:\n",
      "/home/sguelton/.venvs/pythran-stories/lib/python3.6/site-packages/numpy/core/include/numpy/npy_1_7_deprecated_api.h:15:2: warning: #warning \"Using deprecated NumPy API, disable it by \" \"#defining NPY_NO_DEPRECATED_API NPY_1_7_API_VERSION\" [-Wcpp]\n",
      " #warning \"Using deprecated NumPy API, disable it by \" \\\n",
      "  ^~~~~~~\n"
     ]
    }
   ],
   "source": [
    "%%cython\n",
    "import numpy as np\n",
    "cimport numpy as np\n",
    "from libc.math cimport fabs\n",
    "\n",
    "cimport cython\n",
    "@cython.boundscheck(False) # turn off bounds-checking for entire function\n",
    "@cython.wraparound(False)  # turn off negative index wrapping for entire function\n",
    "def cy_py_laplacien(np.ndarray[double, ndim=2] image):\n",
    "    cdef int i, j\n",
    "    cdef int n = image.shape[0], m = image.shape[1]\n",
    "    cdef np.ndarray[double, ndim=2] out_image = np.empty((n-2,m-2))\n",
    "    cdef double valmax\n",
    "    for i in range(n-2):\n",
    "        for j in range(m-2):\n",
    "            out_image[i,j] =  fabs(4*image[1+i,1+j] -\n",
    "                       image[i,1+j] - image[2+i,1+j] -\n",
    "                       image[1+i,j] - image[1+i,2+j])\n",
    "    valmax = out_image[0,0]\n",
    "    for i in range(n-2):\n",
    "        for j in range(m-2):\n",
    "            if out_image[i,j] > valmax:\n",
    "                valmax = out_image[i,j]\n",
    "    valmax = max(1.,valmax)+1.E-9\n",
    "    for i in range(n-2):\n",
    "        for j in range(m-2):\n",
    "            out_image[i,j] /= valmax\n",
    "    return out_image"
   ]
  },
  {
   "cell_type": "code",
   "execution_count": 46,
   "metadata": {},
   "outputs": [
    {
     "name": "stdout",
     "output_type": "stream",
     "text": [
      "781 µs ± 3.2 µs per loop (mean ± std. dev. of 7 runs, 1000 loops each)\n"
     ]
    }
   ],
   "source": [
    "%timeit cy_py_laplacien(image)"
   ]
  },
  {
   "cell_type": "code",
   "execution_count": null,
   "metadata": {},
   "outputs": [],
   "source": []
  }
 ],
 "metadata": {
  "kernelspec": {
   "display_name": "Python 3",
   "language": "python",
   "name": "python3"
  },
  "language_info": {
   "codemirror_mode": {
    "name": "ipython",
    "version": 3
   },
   "file_extension": ".py",
   "mimetype": "text/x-python",
   "name": "python",
   "nbconvert_exporter": "python",
   "pygments_lexer": "ipython3",
   "version": "3.6.3"
  }
 },
 "nbformat": 4,
 "nbformat_minor": 2
}
