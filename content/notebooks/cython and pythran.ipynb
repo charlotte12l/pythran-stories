{
 "cells": [
  {
   "cell_type": "markdown",
   "metadata": {},
   "source": [
    "# Getting the best of every world: Cython and Pythran working together\n",
    "Once upon a time, on IRC, Serge Guelton asked me whether I wanted to work on\n",
    "having Cython using Pythran for Numpy-related computation. I wasn't really sure\n",
    "what I was getting into, but I've always liked optimizing software, and that\n",
    "sounded like an interesting challenge to understand both projects.\n",
    "As an also important interesting note, this whole project has been financed by\n",
    "the OpenDreamKit project!\n",
    "\n",
    "That's the end of the small story, now let's get to the real stuff!\n",
    "\n",
    "## Why mixing Cython and Pythran?\n",
    "\n",
    "On one side, when Cython code contains operations which are done on Numpy\n",
    "arrays, Cython relies on the original Numpy package to compute them. This\n",
    "involves a fall back to the Python interpreter. It thus misses several\n",
    "optimization opportunities, especially with complex expressions.\n",
    "\n",
    "On the other side, Pythran has a full C++ implementation of a major set of\n",
    "the Numpy API. Some of the advantage of this implementation is that it supports\n",
    "expression templates and SIMD instructions. Expression templates allow to\n",
    "\"fuse\" loops that can occurs when expressions with multiple operators are\n",
    "computed. For instance, the expression \"a+b*c\" will original be transformed by\n",
    "Cython in two call: one for the multiplication of b by c, and one for the\n",
    "addition of the result of this multiplication and the addition by a. Each call\n",
    "will end-up in one loop, that will read memory, compute the operation and write\n",
    "back to memory. The second loop will have the same pattern. In nowadays\n",
    "architecture, memory bandwidth is often the limiting factor in this kind of\n",
    "operation. It is thus really interesting to merge these loops, and load/store\n",
    "the memory only once.  Expression templating is a C++ technique that allows to\n",
    "evaluate expressions only when they are stored to memory. Thus, in this case,\n",
    "the two loops will be automatically \"merged\" by the C++ compiler, and we'll get\n",
    "an optimized version of this code. Note that this technique is used for\n",
    "instance by the C++ wrapper of the GMP library.\n",
    "\n",
    "The project has been focused on using this Pythran backend for Numpy arrays in\n",
    "Cython when possible. At the time of writing this integration, Pythran had a\n",
    "few limitations regarding the Numpy arrays it can handle:\n",
    "\n",
    "* array \"views\" are not supported. That means that arrays must be stored in\n",
    "  contiguous memory. Fortran and C-style format are supported.\n",
    "* the endianess of the integers must be the same that the one of the targeted\n",
    "  architecture (note that Cython has the same limitation, and that it is still\n",
    "  true today)\n",
    "\n",
    "## Implementation details within Cython\n",
    "\n",
    "\n",
    "The overall idea of the implementation of this feature is to generate code that\n",
    "is using the pythonic backend instead of calls to the Numpy Python functions.\n",
    "Moreover, as Pythran didn't support every Numpy array types, we need a\n",
    "mechanism to switch back to the original implementation if necessary.\n",
    "\n",
    "In order to explain this, let's take an example with this simple Cython function:\n",
    "\n",
    ".. code:: py\n",
    "\n",
    "  import numpy as np\n",
    "  cimport numpy as np\n",
    "  def add(np.ndarray(double, ndim=1) a, np.ndarray(double, ndim=1) b):\n",
    "      return a+b\n",
    "\n",
    "When we encounter such a definition, we want to generate various functions, depending on the shapes of ``a`` and ``b`` at runtime:\n",
    "\n",
    "* the original Cython code, if ``a`` and ``b`` can't be handled by Pythran\n",
    "* the version when only ``a`` can be handled by Pythran\n",
    "* the version when only ``b`` can be handled by Pythran\n",
    "* the version when both ``a`` and ``b`` can be handled by Pythran\n",
    "\n",
    "We can note that, in the case of the ``add`` function, only the first and last\n",
    "versions are really of value. For now, we don't try to be smart about this and\n",
    "generate all of these versions.\n",
    "\n",
    "In order to do that, we rely on the type infrastructure that already exists in\n",
    "Cython. For every argument that is a potentially Pythran-supported Numpy array,\n",
    "we convert its type into a Cython ``FusedType``. A ``FusedType`` allows to declare a\n",
    "union of type. Multiple ``FusedType`` can be specified within a function. In\n",
    "the case of our ``add`` function, this will generate the four aforementioned\n",
    "versions, and the dispatching is done at runtime. What's nice is that we just\n",
    "need to declare these ``FusedType`` types, and Cython already handled all this\n",
    "dispatching and the generation of the various functions.\n",
    "\n",
    "Once this is done, we use these rules to known when we can generation\n",
    "pythonic-based code:\n",
    "\n",
    "* unary and binary operators of two pythonic arrays is a supported operation\n",
    "* calling a function of a module implemented in Pythran is a supported operation\n",
    "\n",
    "If none of these rules work out, we fall back to Python objects and use the\n",
    "original Cython implementation.\n",
    "\n",
    "## How to use it\n",
    "\n",
    "The Pythran-Numpy backend isn't activated by default within Cython. There are\n",
    "multiple ways to activate it:\n",
    "\n",
    "* if you are using Cython directly from the command line, you can pass the\n",
    "  ``--np-pythran`` flag to the ``cython`` program\n",
    "* if you are using ``distutils``, you can just add a comment with ``# cython:\n",
    "  np_pythran=True`` at the top of the necessary Cython files\n",
    "\n",
    "More detailed information can be found within the Cython documentation\n",
    "(https://cython.readthedocs.io/en/latest/src/userguide/numpy_pythran.html)."
   ]
  },
  {
   "cell_type": "markdown",
   "metadata": {},
   "source": [
    "## Benchmarks and example"
   ]
  },
  {
   "cell_type": "code",
   "execution_count": 1,
   "metadata": {},
   "outputs": [],
   "source": [
    "import numpy as np\n",
    "\n",
    "n = 10000\n",
    "x, y = np.random.random((2, n))"
   ]
  },
  {
   "cell_type": "code",
   "execution_count": 2,
   "metadata": {},
   "outputs": [],
   "source": [
    "def np_cos_norm(a, b):\n",
    "    val = np.sum(1. - np.cos(a-b))\n",
    "    return np.sqrt(val / 2. / a.shape[0])"
   ]
  },
  {
   "cell_type": "code",
   "execution_count": 3,
   "metadata": {},
   "outputs": [
    {
     "name": "stdout",
     "output_type": "stream",
     "text": [
      "135 µs ± 4.7 µs per loop (mean ± std. dev. of 7 runs, 10000 loops each)\n"
     ]
    }
   ],
   "source": [
    "%timeit np_cos_norm(x, y)"
   ]
  },
  {
   "cell_type": "code",
   "execution_count": 4,
   "metadata": {},
   "outputs": [],
   "source": [
    "%load_ext Cython"
   ]
  },
  {
   "cell_type": "code",
   "execution_count": 5,
   "metadata": {},
   "outputs": [],
   "source": [
    "%%cython\n",
    "import numpy as np\n",
    "def cy_np_cos_norm(a, b):\n",
    "    val = np.sum(1. - np.cos(a-b))\n",
    "    return np.sqrt(val / 2. / a.shape[0])"
   ]
  },
  {
   "cell_type": "code",
   "execution_count": 6,
   "metadata": {},
   "outputs": [
    {
     "name": "stdout",
     "output_type": "stream",
     "text": [
      "130 µs ± 2.03 µs per loop (mean ± std. dev. of 7 runs, 10000 loops each)\n"
     ]
    }
   ],
   "source": [
    "%timeit cy_np_cos_norm(x, y)"
   ]
  },
  {
   "cell_type": "code",
   "execution_count": 7,
   "metadata": {},
   "outputs": [],
   "source": [
    "%%cython\n",
    "import numpy as np\n",
    "cimport numpy as np\n",
    "def cy_np_typed_cos_norm(np.ndarray[double, ndim=1] a, np.ndarray[double, ndim=1] b):\n",
    "    val = np.sum(1. - np.cos(a-b))\n",
    "    return np.sqrt(val / 2. / a.shape[0])"
   ]
  },
  {
   "cell_type": "code",
   "execution_count": 8,
   "metadata": {},
   "outputs": [
    {
     "name": "stdout",
     "output_type": "stream",
     "text": [
      "136 µs ± 1.42 µs per loop (mean ± std. dev. of 7 runs, 10000 loops each)\n"
     ]
    }
   ],
   "source": [
    "%timeit cy_np_typed_cos_norm(x, y)"
   ]
  },
  {
   "cell_type": "code",
   "execution_count": 9,
   "metadata": {},
   "outputs": [],
   "source": [
    "%%cython\n",
    "#cython: np_pythran=True\n",
    "#cython: cxx=True\n",
    "import numpy as np\n",
    "cimport numpy as np\n",
    "\n",
    "def cy_np_typed_pythran_cos_norm(np.ndarray[double, ndim=1] a, np.ndarray[double, ndim=1] b):\n",
    "    cdef int n = len(a)\n",
    "    val = np.sum(1. - np.cos(a-b))\n",
    "    return np.sqrt(val / 2. / n)"
   ]
  },
  {
   "cell_type": "code",
   "execution_count": 10,
   "metadata": {},
   "outputs": [
    {
     "name": "stdout",
     "output_type": "stream",
     "text": [
      "125 µs ± 534 ns per loop (mean ± std. dev. of 7 runs, 10000 loops each)\n"
     ]
    }
   ],
   "source": [
    "%timeit cy_np_typed_pythran_cos_norm(x, y)"
   ]
  },
  {
   "cell_type": "code",
   "execution_count": 39,
   "metadata": {},
   "outputs": [
    {
     "name": "stdout",
     "output_type": "stream",
     "text": [
      "In file included from /home/sguelton/.venvs/pythran-stories/lib/python3.6/site-packages/numpy/core/include/numpy/ndarraytypes.h:1821,\n",
      "                 from /home/sguelton/.venvs/pythran-stories/lib/python3.6/site-packages/numpy/core/include/numpy/ndarrayobject.h:18,\n",
      "                 from /home/sguelton/.venvs/pythran-stories/lib/python3.6/site-packages/numpy/core/include/numpy/arrayobject.h:4,\n",
      "                 from /home/sguelton/.cache/ipython/cython/_cython_magic_de5fadab911cf21905da8dd16683ccf9.c:663:\n",
      "/home/sguelton/.venvs/pythran-stories/lib/python3.6/site-packages/numpy/core/include/numpy/npy_1_7_deprecated_api.h:15:2: warning: #warning \"Using deprecated NumPy API, disable it by \" \"#defining NPY_NO_DEPRECATED_API NPY_1_7_API_VERSION\" [-Wcpp]\n",
      " #warning \"Using deprecated NumPy API, disable it by \" \\\n",
      "  ^~~~~~~\n"
     ]
    }
   ],
   "source": [
    "%%cython\n",
    "\n",
    "import numpy as np\n",
    "cimport numpy as np\n",
    "from libc.math cimport cos, sqrt\n",
    "\n",
    "cimport cython\n",
    "@cython.boundscheck(False) # turn off bounds-checking for entire function\n",
    "@cython.wraparound(False)  # turn off negative index wrapping for entire function\n",
    "def cy_np_typed_python_cos_norm(np.ndarray[double, ndim=1] a, np.ndarray[double, ndim=1] b):\n",
    "    cdef int n = len(a), i\n",
    "    cdef double acc = 0,res\n",
    "    for i in range(n):\n",
    "        acc += 1 - cos(a[i]-b[i])\n",
    "    res = sqrt(acc / 2. / n)\n",
    "    return res"
   ]
  },
  {
   "cell_type": "code",
   "execution_count": 40,
   "metadata": {},
   "outputs": [
    {
     "name": "stdout",
     "output_type": "stream",
     "text": [
      "127 µs ± 957 ns per loop (mean ± std. dev. of 7 runs, 10000 loops each)\n"
     ]
    }
   ],
   "source": [
    "%timeit cy_np_typed_python_cos_norm(x, y)"
   ]
  },
  {
   "cell_type": "code",
   "execution_count": 17,
   "metadata": {},
   "outputs": [],
   "source": [
    "%%cython -c=-DUSE_XSIMD -c=-march=native\n",
    "#cython: np_pythran=True\n",
    "#cython: cxx=True\n",
    "import numpy as np\n",
    "cimport numpy as np\n",
    "\n",
    "def cy_np_typed_pythran_xsimd_cos_norm(np.ndarray[double, ndim=1] a, np.ndarray[double, ndim=1] b):\n",
    "    cdef int n = len(a)\n",
    "    val = np.sum(1. - np.cos(a-b))\n",
    "    return np.sqrt(val / 2. / n)"
   ]
  },
  {
   "cell_type": "code",
   "execution_count": 18,
   "metadata": {},
   "outputs": [
    {
     "name": "stdout",
     "output_type": "stream",
     "text": [
      "28.1 µs ± 49.7 ns per loop (mean ± std. dev. of 7 runs, 10000 loops each)\n"
     ]
    }
   ],
   "source": [
    "%timeit cy_np_typed_pythran_xsimd_cos_norm(x, y)"
   ]
  },
  {
   "cell_type": "code",
   "execution_count": 22,
   "metadata": {},
   "outputs": [],
   "source": [
    "def np_laplacien(image):\n",
    "    out_image = np.abs(4*image[1:-1,1:-1] -\n",
    "                       image[0:-2,1:-1] - image[2:,1:-1] -\n",
    "                       image[1:-1,0:-2] - image[1:-1,2:])\n",
    "    valmax = np.max(out_image)\n",
    "    valmax = max(1.,valmax)+1.E-9\n",
    "    out_image /= valmax\n",
    "    return out_image"
   ]
  },
  {
   "cell_type": "code",
   "execution_count": 32,
   "metadata": {},
   "outputs": [],
   "source": [
    "N = 500 ; image = np.random.randn(N,N)"
   ]
  },
  {
   "cell_type": "code",
   "execution_count": 33,
   "metadata": {},
   "outputs": [
    {
     "name": "stdout",
     "output_type": "stream",
     "text": [
      "1.16 ms ± 1.62 µs per loop (mean ± std. dev. of 7 runs, 1000 loops each)\n"
     ]
    }
   ],
   "source": [
    "%timeit np_laplacien(image)"
   ]
  },
  {
   "cell_type": "code",
   "execution_count": 34,
   "metadata": {},
   "outputs": [],
   "source": [
    "%%cython\n",
    "import numpy as np\n",
    "def cy_np_laplacien(image):\n",
    "    out_image = np.abs(4*image[1:-1,1:-1] -\n",
    "                       image[0:-2,1:-1] - image[2:,1:-1] -\n",
    "                       image[1:-1,0:-2] - image[1:-1,2:])\n",
    "    valmax = np.max(out_image)\n",
    "    valmax = max(1.,valmax)+1.E-9\n",
    "    out_image /= valmax\n",
    "    return out_image"
   ]
  },
  {
   "cell_type": "code",
   "execution_count": 35,
   "metadata": {},
   "outputs": [
    {
     "name": "stdout",
     "output_type": "stream",
     "text": [
      "1.37 ms ± 51.5 µs per loop (mean ± std. dev. of 7 runs, 1000 loops each)\n"
     ]
    }
   ],
   "source": [
    "%timeit cy_np_laplacien(image)"
   ]
  },
  {
   "cell_type": "code",
   "execution_count": 37,
   "metadata": {},
   "outputs": [],
   "source": [
    "%%cython\n",
    "#cython: np_pythran=True\n",
    "#cython: cxx=True\n",
    "import numpy as np\n",
    "cimport numpy as np\n",
    "\n",
    "def cy_np_pythran_laplacien(np.ndarray[double, ndim=2] image):\n",
    "\n",
    "    out_image = np.abs(4*image[1:-1,1:-1] -\n",
    "                       image[0:-2,1:-1] - image[2:,1:-1] -\n",
    "                       image[1:-1,0:-2] - image[1:-1,2:])\n",
    "    valmax = np.max(out_image)\n",
    "    valmax = max(1.,valmax)+1.E-9\n",
    "    out_image /= valmax\n",
    "    return out_image"
   ]
  },
  {
   "cell_type": "code",
   "execution_count": 38,
   "metadata": {},
   "outputs": [
    {
     "name": "stdout",
     "output_type": "stream",
     "text": [
      "572 µs ± 2.01 µs per loop (mean ± std. dev. of 7 runs, 1000 loops each)\n"
     ]
    }
   ],
   "source": [
    "%timeit cy_np_pythran_laplacien(image)"
   ]
  },
  {
   "cell_type": "code",
   "execution_count": 45,
   "metadata": {},
   "outputs": [
    {
     "name": "stdout",
     "output_type": "stream",
     "text": [
      "In file included from /home/sguelton/.venvs/pythran-stories/lib/python3.6/site-packages/numpy/core/include/numpy/ndarraytypes.h:1821,\n",
      "                 from /home/sguelton/.venvs/pythran-stories/lib/python3.6/site-packages/numpy/core/include/numpy/ndarrayobject.h:18,\n",
      "                 from /home/sguelton/.venvs/pythran-stories/lib/python3.6/site-packages/numpy/core/include/numpy/arrayobject.h:4,\n",
      "                 from /home/sguelton/.cache/ipython/cython/_cython_magic_13f923ceefb5a7aa28145e7decf40983.c:667:\n",
      "/home/sguelton/.venvs/pythran-stories/lib/python3.6/site-packages/numpy/core/include/numpy/npy_1_7_deprecated_api.h:15:2: warning: #warning \"Using deprecated NumPy API, disable it by \" \"#defining NPY_NO_DEPRECATED_API NPY_1_7_API_VERSION\" [-Wcpp]\n",
      " #warning \"Using deprecated NumPy API, disable it by \" \\\n",
      "  ^~~~~~~\n"
     ]
    }
   ],
   "source": [
    "%%cython\n",
    "import numpy as np\n",
    "cimport numpy as np\n",
    "from libc.math cimport fabs\n",
    "\n",
    "cimport cython\n",
    "@cython.boundscheck(False) # turn off bounds-checking for entire function\n",
    "@cython.wraparound(False)  # turn off negative index wrapping for entire function\n",
    "def cy_py_laplacien(np.ndarray[double, ndim=2] image):\n",
    "    cdef int i, j\n",
    "    cdef int n = image.shape[0], m = image.shape[1]\n",
    "    cdef np.ndarray[double, ndim=2] out_image = np.empty((n-2,m-2))\n",
    "    cdef double valmax\n",
    "    for i in range(n-2):\n",
    "        for j in range(m-2):\n",
    "            out_image[i,j] =  fabs(4*image[1+i,1+j] -\n",
    "                       image[i,1+j] - image[2+i,1+j] -\n",
    "                       image[1+i,j] - image[1+i,2+j])\n",
    "    valmax = out_image[0,0]\n",
    "    for i in range(n-2):\n",
    "        for j in range(m-2):\n",
    "            if out_image[i,j] > valmax:\n",
    "                valmax = out_image[i,j]\n",
    "    valmax = max(1.,valmax)+1.E-9\n",
    "    for i in range(n-2):\n",
    "        for j in range(m-2):\n",
    "            out_image[i,j] /= valmax\n",
    "    return out_image"
   ]
  },
  {
   "cell_type": "code",
   "execution_count": 46,
   "metadata": {},
   "outputs": [
    {
     "name": "stdout",
     "output_type": "stream",
     "text": [
      "781 µs ± 3.2 µs per loop (mean ± std. dev. of 7 runs, 1000 loops each)\n"
     ]
    }
   ],
   "source": [
    "%timeit cy_py_laplacien(image)"
   ]
  },
  {
   "cell_type": "markdown",
   "metadata": {},
   "source": [
    "## Future work\n",
    "\n",
    "Pythran does not support yet memory views, while Cython has support for this.\n",
    "Memory views are an official CPython API to transparently forward buffers back\n",
    "and forth from native world to Python. As Numpy arrays, they support various\n",
    "shapes and ordering. Numpy arrays can also be processed as memory views. The\n",
    "next move for Pythran would be to support this, and for Cython to be able to\n",
    "use the Pythran backend for memory views!"
   ]
  }
 ],
 "metadata": {
  "kernelspec": {
   "display_name": "Python 3",
   "language": "python",
   "name": "python3"
  },
  "language_info": {
   "codemirror_mode": {
    "name": "ipython",
    "version": 3
   },
   "file_extension": ".py",
   "mimetype": "text/x-python",
   "name": "python",
   "nbconvert_exporter": "python",
   "pygments_lexer": "ipython3",
   "version": "3.6.6+"
  }
 },
 "nbformat": 4,
 "nbformat_minor": 2
}
